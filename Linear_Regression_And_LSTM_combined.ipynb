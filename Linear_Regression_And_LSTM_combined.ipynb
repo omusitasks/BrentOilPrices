{
  "nbformat": 4,
  "nbformat_minor": 0,
  "metadata": {
    "colab": {
      "provenance": []
    },
    "kernelspec": {
      "name": "python3",
      "display_name": "Python 3"
    },
    "language_info": {
      "name": "python"
    }
  },
  "cells": [
    {
      "cell_type": "markdown",
      "source": [
        "### PART A"
      ],
      "metadata": {
        "id": "xv7Wpxgoeb_g"
      }
    },
    {
      "cell_type": "code",
      "execution_count": 48,
      "metadata": {
        "colab": {
          "base_uri": "https://localhost:8080/",
          "height": 206
        },
        "id": "oKmXj1SqHQcc",
        "outputId": "7d28984a-d74e-404f-b77b-9835395cb33e"
      },
      "outputs": [
        {
          "output_type": "execute_result",
          "data": {
            "text/plain": [
              "        Date  Price\n",
              "0  20-May-87  18.63\n",
              "1  21-May-87  18.45\n",
              "2  22-May-87  18.55\n",
              "3  25-May-87  18.60\n",
              "4  26-May-87  18.63"
            ],
            "text/html": [
              "\n",
              "  <div id=\"df-c40d447e-15b5-4290-8a95-1e36dddc6810\">\n",
              "    <div class=\"colab-df-container\">\n",
              "      <div>\n",
              "<style scoped>\n",
              "    .dataframe tbody tr th:only-of-type {\n",
              "        vertical-align: middle;\n",
              "    }\n",
              "\n",
              "    .dataframe tbody tr th {\n",
              "        vertical-align: top;\n",
              "    }\n",
              "\n",
              "    .dataframe thead th {\n",
              "        text-align: right;\n",
              "    }\n",
              "</style>\n",
              "<table border=\"1\" class=\"dataframe\">\n",
              "  <thead>\n",
              "    <tr style=\"text-align: right;\">\n",
              "      <th></th>\n",
              "      <th>Date</th>\n",
              "      <th>Price</th>\n",
              "    </tr>\n",
              "  </thead>\n",
              "  <tbody>\n",
              "    <tr>\n",
              "      <th>0</th>\n",
              "      <td>20-May-87</td>\n",
              "      <td>18.63</td>\n",
              "    </tr>\n",
              "    <tr>\n",
              "      <th>1</th>\n",
              "      <td>21-May-87</td>\n",
              "      <td>18.45</td>\n",
              "    </tr>\n",
              "    <tr>\n",
              "      <th>2</th>\n",
              "      <td>22-May-87</td>\n",
              "      <td>18.55</td>\n",
              "    </tr>\n",
              "    <tr>\n",
              "      <th>3</th>\n",
              "      <td>25-May-87</td>\n",
              "      <td>18.60</td>\n",
              "    </tr>\n",
              "    <tr>\n",
              "      <th>4</th>\n",
              "      <td>26-May-87</td>\n",
              "      <td>18.63</td>\n",
              "    </tr>\n",
              "  </tbody>\n",
              "</table>\n",
              "</div>\n",
              "      <button class=\"colab-df-convert\" onclick=\"convertToInteractive('df-c40d447e-15b5-4290-8a95-1e36dddc6810')\"\n",
              "              title=\"Convert this dataframe to an interactive table.\"\n",
              "              style=\"display:none;\">\n",
              "        \n",
              "  <svg xmlns=\"http://www.w3.org/2000/svg\" height=\"24px\"viewBox=\"0 0 24 24\"\n",
              "       width=\"24px\">\n",
              "    <path d=\"M0 0h24v24H0V0z\" fill=\"none\"/>\n",
              "    <path d=\"M18.56 5.44l.94 2.06.94-2.06 2.06-.94-2.06-.94-.94-2.06-.94 2.06-2.06.94zm-11 1L8.5 8.5l.94-2.06 2.06-.94-2.06-.94L8.5 2.5l-.94 2.06-2.06.94zm10 10l.94 2.06.94-2.06 2.06-.94-2.06-.94-.94-2.06-.94 2.06-2.06.94z\"/><path d=\"M17.41 7.96l-1.37-1.37c-.4-.4-.92-.59-1.43-.59-.52 0-1.04.2-1.43.59L10.3 9.45l-7.72 7.72c-.78.78-.78 2.05 0 2.83L4 21.41c.39.39.9.59 1.41.59.51 0 1.02-.2 1.41-.59l7.78-7.78 2.81-2.81c.8-.78.8-2.07 0-2.86zM5.41 20L4 18.59l7.72-7.72 1.47 1.35L5.41 20z\"/>\n",
              "  </svg>\n",
              "      </button>\n",
              "      \n",
              "  <style>\n",
              "    .colab-df-container {\n",
              "      display:flex;\n",
              "      flex-wrap:wrap;\n",
              "      gap: 12px;\n",
              "    }\n",
              "\n",
              "    .colab-df-convert {\n",
              "      background-color: #E8F0FE;\n",
              "      border: none;\n",
              "      border-radius: 50%;\n",
              "      cursor: pointer;\n",
              "      display: none;\n",
              "      fill: #1967D2;\n",
              "      height: 32px;\n",
              "      padding: 0 0 0 0;\n",
              "      width: 32px;\n",
              "    }\n",
              "\n",
              "    .colab-df-convert:hover {\n",
              "      background-color: #E2EBFA;\n",
              "      box-shadow: 0px 1px 2px rgba(60, 64, 67, 0.3), 0px 1px 3px 1px rgba(60, 64, 67, 0.15);\n",
              "      fill: #174EA6;\n",
              "    }\n",
              "\n",
              "    [theme=dark] .colab-df-convert {\n",
              "      background-color: #3B4455;\n",
              "      fill: #D2E3FC;\n",
              "    }\n",
              "\n",
              "    [theme=dark] .colab-df-convert:hover {\n",
              "      background-color: #434B5C;\n",
              "      box-shadow: 0px 1px 3px 1px rgba(0, 0, 0, 0.15);\n",
              "      filter: drop-shadow(0px 1px 2px rgba(0, 0, 0, 0.3));\n",
              "      fill: #FFFFFF;\n",
              "    }\n",
              "  </style>\n",
              "\n",
              "      <script>\n",
              "        const buttonEl =\n",
              "          document.querySelector('#df-c40d447e-15b5-4290-8a95-1e36dddc6810 button.colab-df-convert');\n",
              "        buttonEl.style.display =\n",
              "          google.colab.kernel.accessAllowed ? 'block' : 'none';\n",
              "\n",
              "        async function convertToInteractive(key) {\n",
              "          const element = document.querySelector('#df-c40d447e-15b5-4290-8a95-1e36dddc6810');\n",
              "          const dataTable =\n",
              "            await google.colab.kernel.invokeFunction('convertToInteractive',\n",
              "                                                     [key], {});\n",
              "          if (!dataTable) return;\n",
              "\n",
              "          const docLinkHtml = 'Like what you see? Visit the ' +\n",
              "            '<a target=\"_blank\" href=https://colab.research.google.com/notebooks/data_table.ipynb>data table notebook</a>'\n",
              "            + ' to learn more about interactive tables.';\n",
              "          element.innerHTML = '';\n",
              "          dataTable['output_type'] = 'display_data';\n",
              "          await google.colab.output.renderOutput(dataTable, element);\n",
              "          const docLink = document.createElement('div');\n",
              "          docLink.innerHTML = docLinkHtml;\n",
              "          element.appendChild(docLink);\n",
              "        }\n",
              "      </script>\n",
              "    </div>\n",
              "  </div>\n",
              "  "
            ]
          },
          "metadata": {},
          "execution_count": 48
        }
      ],
      "source": [
        "\n",
        "# Importing the libraries\n",
        "import numpy as np\n",
        "import matplotlib.pyplot as plt\n",
        "import pandas as pd\n",
        "\n",
        "# Importing the dataset\n",
        "dataset = pd.read_csv('BrentOilPrices.csv')\n",
        "\n",
        "# cleaning the dataset\n",
        "dataset = dataset.dropna()\n",
        "dataset.head()"
      ]
    },
    {
      "cell_type": "code",
      "source": [
        "dataset.info()"
      ],
      "metadata": {
        "colab": {
          "base_uri": "https://localhost:8080/"
        },
        "id": "EY9Vyj2JHfrw",
        "outputId": "1c694e2c-4e79-4fbc-c692-310c9d704d62"
      },
      "execution_count": 49,
      "outputs": [
        {
          "output_type": "stream",
          "name": "stdout",
          "text": [
            "<class 'pandas.core.frame.DataFrame'>\n",
            "Int64Index: 9011 entries, 0 to 9010\n",
            "Data columns (total 2 columns):\n",
            " #   Column  Non-Null Count  Dtype  \n",
            "---  ------  --------------  -----  \n",
            " 0   Date    9011 non-null   object \n",
            " 1   Price   9011 non-null   float64\n",
            "dtypes: float64(1), object(1)\n",
            "memory usage: 211.2+ KB\n"
          ]
        }
      ]
    },
    {
      "cell_type": "code",
      "source": [
        "dataset.describe()"
      ],
      "metadata": {
        "colab": {
          "base_uri": "https://localhost:8080/",
          "height": 300
        },
        "id": "MVjRW_7oHliU",
        "outputId": "41f16e2e-e437-427f-cf39-26358338e6b7"
      },
      "execution_count": 50,
      "outputs": [
        {
          "output_type": "execute_result",
          "data": {
            "text/plain": [
              "             Price\n",
              "count  9011.000000\n",
              "mean     48.420782\n",
              "std      32.860110\n",
              "min       9.100000\n",
              "25%      19.050000\n",
              "50%      38.570000\n",
              "75%      70.090000\n",
              "max     143.950000"
            ],
            "text/html": [
              "\n",
              "  <div id=\"df-011cba6e-5c6a-454e-846f-5547add74e0a\">\n",
              "    <div class=\"colab-df-container\">\n",
              "      <div>\n",
              "<style scoped>\n",
              "    .dataframe tbody tr th:only-of-type {\n",
              "        vertical-align: middle;\n",
              "    }\n",
              "\n",
              "    .dataframe tbody tr th {\n",
              "        vertical-align: top;\n",
              "    }\n",
              "\n",
              "    .dataframe thead th {\n",
              "        text-align: right;\n",
              "    }\n",
              "</style>\n",
              "<table border=\"1\" class=\"dataframe\">\n",
              "  <thead>\n",
              "    <tr style=\"text-align: right;\">\n",
              "      <th></th>\n",
              "      <th>Price</th>\n",
              "    </tr>\n",
              "  </thead>\n",
              "  <tbody>\n",
              "    <tr>\n",
              "      <th>count</th>\n",
              "      <td>9011.000000</td>\n",
              "    </tr>\n",
              "    <tr>\n",
              "      <th>mean</th>\n",
              "      <td>48.420782</td>\n",
              "    </tr>\n",
              "    <tr>\n",
              "      <th>std</th>\n",
              "      <td>32.860110</td>\n",
              "    </tr>\n",
              "    <tr>\n",
              "      <th>min</th>\n",
              "      <td>9.100000</td>\n",
              "    </tr>\n",
              "    <tr>\n",
              "      <th>25%</th>\n",
              "      <td>19.050000</td>\n",
              "    </tr>\n",
              "    <tr>\n",
              "      <th>50%</th>\n",
              "      <td>38.570000</td>\n",
              "    </tr>\n",
              "    <tr>\n",
              "      <th>75%</th>\n",
              "      <td>70.090000</td>\n",
              "    </tr>\n",
              "    <tr>\n",
              "      <th>max</th>\n",
              "      <td>143.950000</td>\n",
              "    </tr>\n",
              "  </tbody>\n",
              "</table>\n",
              "</div>\n",
              "      <button class=\"colab-df-convert\" onclick=\"convertToInteractive('df-011cba6e-5c6a-454e-846f-5547add74e0a')\"\n",
              "              title=\"Convert this dataframe to an interactive table.\"\n",
              "              style=\"display:none;\">\n",
              "        \n",
              "  <svg xmlns=\"http://www.w3.org/2000/svg\" height=\"24px\"viewBox=\"0 0 24 24\"\n",
              "       width=\"24px\">\n",
              "    <path d=\"M0 0h24v24H0V0z\" fill=\"none\"/>\n",
              "    <path d=\"M18.56 5.44l.94 2.06.94-2.06 2.06-.94-2.06-.94-.94-2.06-.94 2.06-2.06.94zm-11 1L8.5 8.5l.94-2.06 2.06-.94-2.06-.94L8.5 2.5l-.94 2.06-2.06.94zm10 10l.94 2.06.94-2.06 2.06-.94-2.06-.94-.94-2.06-.94 2.06-2.06.94z\"/><path d=\"M17.41 7.96l-1.37-1.37c-.4-.4-.92-.59-1.43-.59-.52 0-1.04.2-1.43.59L10.3 9.45l-7.72 7.72c-.78.78-.78 2.05 0 2.83L4 21.41c.39.39.9.59 1.41.59.51 0 1.02-.2 1.41-.59l7.78-7.78 2.81-2.81c.8-.78.8-2.07 0-2.86zM5.41 20L4 18.59l7.72-7.72 1.47 1.35L5.41 20z\"/>\n",
              "  </svg>\n",
              "      </button>\n",
              "      \n",
              "  <style>\n",
              "    .colab-df-container {\n",
              "      display:flex;\n",
              "      flex-wrap:wrap;\n",
              "      gap: 12px;\n",
              "    }\n",
              "\n",
              "    .colab-df-convert {\n",
              "      background-color: #E8F0FE;\n",
              "      border: none;\n",
              "      border-radius: 50%;\n",
              "      cursor: pointer;\n",
              "      display: none;\n",
              "      fill: #1967D2;\n",
              "      height: 32px;\n",
              "      padding: 0 0 0 0;\n",
              "      width: 32px;\n",
              "    }\n",
              "\n",
              "    .colab-df-convert:hover {\n",
              "      background-color: #E2EBFA;\n",
              "      box-shadow: 0px 1px 2px rgba(60, 64, 67, 0.3), 0px 1px 3px 1px rgba(60, 64, 67, 0.15);\n",
              "      fill: #174EA6;\n",
              "    }\n",
              "\n",
              "    [theme=dark] .colab-df-convert {\n",
              "      background-color: #3B4455;\n",
              "      fill: #D2E3FC;\n",
              "    }\n",
              "\n",
              "    [theme=dark] .colab-df-convert:hover {\n",
              "      background-color: #434B5C;\n",
              "      box-shadow: 0px 1px 3px 1px rgba(0, 0, 0, 0.15);\n",
              "      filter: drop-shadow(0px 1px 2px rgba(0, 0, 0, 0.3));\n",
              "      fill: #FFFFFF;\n",
              "    }\n",
              "  </style>\n",
              "\n",
              "      <script>\n",
              "        const buttonEl =\n",
              "          document.querySelector('#df-011cba6e-5c6a-454e-846f-5547add74e0a button.colab-df-convert');\n",
              "        buttonEl.style.display =\n",
              "          google.colab.kernel.accessAllowed ? 'block' : 'none';\n",
              "\n",
              "        async function convertToInteractive(key) {\n",
              "          const element = document.querySelector('#df-011cba6e-5c6a-454e-846f-5547add74e0a');\n",
              "          const dataTable =\n",
              "            await google.colab.kernel.invokeFunction('convertToInteractive',\n",
              "                                                     [key], {});\n",
              "          if (!dataTable) return;\n",
              "\n",
              "          const docLinkHtml = 'Like what you see? Visit the ' +\n",
              "            '<a target=\"_blank\" href=https://colab.research.google.com/notebooks/data_table.ipynb>data table notebook</a>'\n",
              "            + ' to learn more about interactive tables.';\n",
              "          element.innerHTML = '';\n",
              "          dataTable['output_type'] = 'display_data';\n",
              "          await google.colab.output.renderOutput(dataTable, element);\n",
              "          const docLink = document.createElement('div');\n",
              "          docLink.innerHTML = docLinkHtml;\n",
              "          element.appendChild(docLink);\n",
              "        }\n",
              "      </script>\n",
              "    </div>\n",
              "  </div>\n",
              "  "
            ]
          },
          "metadata": {},
          "execution_count": 50
        }
      ]
    },
    {
      "cell_type": "markdown",
      "source": [
        "a) Data Visualisation: Define simple line chart to give an idea of the stock\n",
        "price change Brent oil price information for the last 20 years"
      ],
      "metadata": {
        "id": "L0jux9wfQnYI"
      }
    },
    {
      "cell_type": "code",
      "source": [
        "# grouping the data by 5 years\n",
        "dataset['Year'] = pd.DatetimeIndex(dataset['Date']).year\n",
        "\n",
        "# Visualising the dataset\n",
        "dataset.groupby('Year')['Price'].mean().plot(kind='line', figsize=(10, 5), color='red')\n",
        "plt.title('Brent Oil Price')\n",
        "plt.ylabel('Price')\n",
        "plt.xlabel('Year')\n",
        "plt.show()\n"
      ],
      "metadata": {
        "colab": {
          "base_uri": "https://localhost:8080/",
          "height": 350
        },
        "id": "OvXxM1zfHo6P",
        "outputId": "9f7b18ab-fa54-45e6-f7cf-9671512f61c8"
      },
      "execution_count": 51,
      "outputs": [
        {
          "output_type": "display_data",
          "data": {
            "text/plain": [
              "<Figure size 720x360 with 1 Axes>"
            ],
            "image/png": "[encoded data removed]"
          },
          "metadata": {
            "needs_background": "light"
          }
        }
      ]
    },
    {
      "cell_type": "markdown",
      "source": [
        "b). Build explanatory variables — the features we are going to use to predict\n",
        "the price of oil. The variables we will be using at this stage, are the moving\n",
        "averages for the past three (MA3) and nine days (MA9), based on input\n",
        "from the oil stock market.\n",
        "\n"
      ],
      "metadata": {
        "id": "-YarUXCsQq-f"
      }
    },
    {
      "cell_type": "code",
      "source": [
        "# Create the simple moving average with a 3 day window\n",
        "dataset['MA3'] = dataset['Price'].rolling(window=3).mean()\n",
        "# Create the simple moving average with a 9 day window\n",
        "dataset['MA9'] = dataset['Price'].rolling(window=9).mean()\n",
        "# Create the simple moving average with a 21 day window\n",
        "dataset['MA21'] = dataset['Price'].rolling(window=21).mean()\n",
        "# Create the simple moving average with a 50 day window\n",
        "dataset['MA50'] = dataset['Price'].rolling(window=50).mean()\n",
        "# Create the simple moving average with a 200 day window\n",
        "dataset['MA200'] = dataset['Price'].rolling(window=200).mean()"
      ],
      "metadata": {
        "id": "q4YYW-P3Injn"
      },
      "execution_count": 52,
      "outputs": []
    },
    {
      "cell_type": "markdown",
      "source": [
        "c) Define the Train and Test Data: This step covers the preparation of the train\n",
        "data and the test data."
      ],
      "metadata": {
        "id": "9X-x59aKQ0zU"
      }
    },
    {
      "cell_type": "code",
      "source": [
        "\n",
        "# split the dataset into training and test set of the entire dataset\n",
        "\n",
        "# drop the null values\n",
        "dataset = dataset.dropna()\n",
        "# split the dataset into training and test set\n",
        "train = dataset[:int(0.8*(len(dataset)))]\n",
        "test = dataset[int(0.8*(len(dataset))):]\n"
      ],
      "metadata": {
        "id": "64rGGQgNI30e"
      },
      "execution_count": 53,
      "outputs": []
    },
    {
      "cell_type": "markdown",
      "source": [
        "d) Build a Linear Regression Model (LR) using the moving averages for the\n",
        "past three (MA3) and nine days (MA9) as inputs;"
      ],
      "metadata": {
        "id": "rVkPcZ8yQ4vw"
      }
    },
    {
      "cell_type": "code",
      "source": [
        "#Build a Linear Regression Model (LR) using the moving average for the past three (MA3) and nine days (MA9) as inputs\n",
        "\n",
        "# Importing the libraries\n",
        "from sklearn.linear_model import LinearRegression\n",
        "from sklearn.metrics import mean_squared_error, r2_score\n",
        "\n",
        "# Create the feature set\n",
        "X_train = train[['MA3', 'MA9']]\n",
        "y_train = train['Price']\n",
        "X_test = test[['MA3', 'MA9']]\n",
        "y_test = test['Price']\n",
        "\n",
        "# Create and fit the model\n",
        "model = LinearRegression()\n",
        "model.fit(X_train, y_train)"
      ],
      "metadata": {
        "colab": {
          "base_uri": "https://localhost:8080/"
        },
        "id": "JuRW_VwvJE_T",
        "outputId": "260b22a5-63d7-4c3c-b3c3-2a8debddde8b"
      },
      "execution_count": 54,
      "outputs": [
        {
          "output_type": "execute_result",
          "data": {
            "text/plain": [
              "LinearRegression()"
            ]
          },
          "metadata": {},
          "execution_count": 54
        }
      ]
    },
    {
      "cell_type": "markdown",
      "source": [
        "e) Prediction Function and Result: In this step, run the model using the test data\n",
        "we defined in step four. Visualise the predicted versus the actual stock values\n",
        "for the specific time period and calculate the model’s accuracy"
      ],
      "metadata": {
        "id": "C0V34gupQ7k1"
      }
    },
    {
      "cell_type": "code",
      "source": [
        "\n",
        "\"\"\"\n",
        "Prediction Function and Result: In this step, run the model using the test data we defined in step four. Visualise the predicted versus the actual stock values for the specific time period and calculate the model’s accuracy\n",
        "\"\"\"\n",
        "\n",
        "# Predict the price of Brent oil\n",
        "y_pred = model.predict(X_test)\n",
        "\n",
        "# Visualising the results\n",
        "plt.figure(figsize=(10, 5))\n",
        "plt.plot(y_test.values, color='red', label='Real Brent Oil Price')\n",
        "plt.plot(y_pred, color='blue', label='Predicted Brent Oil Price')\n",
        "plt.title('Brent Oil Price Prediction')\n",
        "plt.xlabel('Time')\n",
        "plt.ylabel('Brent Oil Price')\n",
        "plt.legend()\n",
        "plt.show()\n"
      ],
      "metadata": {
        "colab": {
          "base_uri": "https://localhost:8080/",
          "height": 350
        },
        "id": "BQ3nB7QWJqZd",
        "outputId": "1f5b47fb-ef08-4d6d-d433-40e2b811ed1e"
      },
      "execution_count": 55,
      "outputs": [
        {
          "output_type": "display_data",
          "data": {
            "text/plain": [
              "<Figure size 720x360 with 1 Axes>"
            ],
            "image/png": "[encoded data removed]"
          },
          "metadata": {
            "needs_background": "light"
          }
        }
      ]
    },
    {
      "cell_type": "markdown",
      "source": [
        "f) Calculate the alpha and betas value: Define the linear regression equation using the\n",
        "alpha and betas values"
      ],
      "metadata": {
        "id": "QNBr41dAQ_fj"
      }
    },
    {
      "cell_type": "code",
      "source": [
        "# Calculate the alpha and betas value\n",
        "alpha = model.intercept_\n",
        "betas = model.coef_\n",
        "print('alpha = ', alpha)\n",
        "print('betas = ', betas)\n",
        "\n"
      ],
      "metadata": {
        "colab": {
          "base_uri": "https://localhost:8080/"
        },
        "id": "s-LJMHfZP8hF",
        "outputId": "79eb98ed-e4f7-45ad-c2dc-7966f5908757"
      },
      "execution_count": 56,
      "outputs": [
        {
          "output_type": "stream",
          "name": "stdout",
          "text": [
            "alpha =  0.01668524934777338\n",
            "betas =  [ 1.21633965 -0.21668419]\n"
          ]
        }
      ]
    },
    {
      "cell_type": "code",
      "source": [
        "# accuracy of the model\n",
        "print('Mean squared error: %.2f' % mean_squared_error(y_test, y_pred))\n",
        "print('Coefficient of determination: %.2f' % r2_score(y_test, y_pred))\n",
        "\n",
        "\n"
      ],
      "metadata": {
        "colab": {
          "base_uri": "https://localhost:8080/"
        },
        "id": "Wjpp23fMQElR",
        "outputId": "7dbe6ba3-1b80-430e-fe8c-6c016770c2a5"
      },
      "execution_count": 57,
      "outputs": [
        {
          "output_type": "stream",
          "name": "stdout",
          "text": [
            "Mean squared error: 1.49\n",
            "Coefficient of determination: 1.00\n"
          ]
        }
      ]
    },
    {
      "cell_type": "markdown",
      "source": [
        "### PART B"
      ],
      "metadata": {
        "id": "jP16UyeBSmEW"
      }
    },
    {
      "cell_type": "code",
      "source": [
        "# Importing the libraries\n",
        "import numpy as np\n",
        "import matplotlib.pyplot as plt\n",
        "import pandas as pd\n",
        "import math\n",
        "from sklearn.preprocessing import MinMaxScaler\n",
        "from sklearn.metrics import mean_squared_error\n",
        "from keras.models import Sequential\n",
        "from keras.layers import Dense, LSTM, Dropout"
      ],
      "metadata": {
        "id": "-BhFXWrJSpAO"
      },
      "execution_count": 58,
      "outputs": []
    },
    {
      "cell_type": "code",
      "source": [
        "# Importing dataset\n",
        "dataset = pd.read_csv('BrentOilPrices.csv')\n",
        "dataset = dataset.dropna()\n",
        "dataset = dataset.drop(['Date'], axis=1)"
      ],
      "metadata": {
        "id": "mWpuhCVeStT7"
      },
      "execution_count": 61,
      "outputs": []
    },
    {
      "cell_type": "markdown",
      "source": [
        "a. Define the Train and Test Data: This step covers the preparation of the train data\n",
        "and the test data. Explain the techniques used to generate the train data and the test\n",
        "data for the given Brent oil price time series data set."
      ],
      "metadata": {
        "id": "zuPye-nReQyq"
      }
    },
    {
      "cell_type": "code",
      "source": [
        "# Splitting the dataset into the Training set and Test set\n",
        "training_set = dataset.iloc[:int(dataset.shape[0]*0.8), 0:1].values\n",
        "test_set = dataset.iloc[int(dataset.shape[0]*0.8):, 0:1].values\n"
      ],
      "metadata": {
        "id": "JDns6TFkSw0X"
      },
      "execution_count": 62,
      "outputs": []
    },
    {
      "cell_type": "code",
      "source": [
        "# Feature Scaling\n",
        "sc = MinMaxScaler(feature_range = (0, 1))\n",
        "training_set_scaled = sc.fit_transform(training_set)\n",
        "\n",
        "# Creating a data structure with 60 timesteps and 1 output\n",
        "X_train = []\n",
        "y_train = []\n",
        "for i in range(60, training_set_scaled.shape[0]):\n",
        "    X_train.append(training_set_scaled[i-60:i, 0])\n",
        "    y_train.append(training_set_scaled[i, 0])\n",
        "X_train, y_train = np.array(X_train), np.array(y_train)\n",
        "\n",
        "# Reshaping\n",
        "X_train = np.reshape(X_train, (X_train.shape[0], X_train.shape[1], 1))\n"
      ],
      "metadata": {
        "id": "aar7ND2-S-gE"
      },
      "execution_count": 63,
      "outputs": []
    },
    {
      "cell_type": "markdown",
      "source": [
        "b. Build the Model: Define the Long Short-Term Memory model (LSTM) and clearly\n",
        "explain the input features as a function of time lag."
      ],
      "metadata": {
        "id": "TzRJBECseU01"
      }
    },
    {
      "cell_type": "code",
      "source": [
        "\n",
        "# Initialising the RNN\n",
        "regressor = Sequential()\n",
        "\n",
        "# Adding the first LSTM layer and some Dropout regularisation\n",
        "regressor.add(LSTM(units = 50, return_sequences = True, input_shape = (X_train.shape[1], 1)))\n",
        "regressor.add(Dropout(0.2))\n",
        "\n",
        "# Adding a second LSTM layer and some Dropout regularisation\n",
        "regressor.add(LSTM(units = 50, return_sequences = True))\n",
        "regressor.add(Dropout(0.2))\n",
        "\n",
        "# Adding a third LSTM layer and some Dropout regularisation\n",
        "regressor.add(LSTM(units = 50, return_sequences = True))\n",
        "regressor.add(Dropout(0.2))\n",
        "\n",
        "# Adding a fourth LSTM layer and some Dropout regularisation\n",
        "regressor.add(LSTM(units = 50))\n",
        "regressor.add(Dropout(0.2))\n",
        "\n",
        "# Adding the output layer\n",
        "regressor.add(Dense(units = 1))\n",
        "\n",
        "# Compiling the RNN\n",
        "regressor.compile(optimizer = 'adam', loss = 'mean_squared_error')\n",
        "\n",
        "# Fitting the RNN to the Training set\n",
        "regressor.fit(X_train, y_train, epochs = 100, batch_size = 32)\n"
      ],
      "metadata": {
        "colab": {
          "base_uri": "https://localhost:8080/"
        },
        "id": "qkP3k4ygTgpL",
        "outputId": "23d242ae-9896-45f6-e2ca-175c17a1a7ce"
      },
      "execution_count": 64,
      "outputs": [
        {
          "output_type": "stream",
          "name": "stdout",
          "text": [
            "Epoch 1/100\n",
            "224/224 [==============================] - 41s 110ms/step - loss: 0.0051\n",
            "Epoch 2/100\n",
            "224/224 [==============================] - 25s 111ms/step - loss: 0.0020\n",
            "Epoch 3/100\n",
            "224/224 [==============================] - 27s 119ms/step - loss: 0.0016\n",
            "Epoch 4/100\n",
            "224/224 [==============================] - 26s 116ms/step - loss: 0.0015\n",
            "Epoch 5/100\n",
            "224/224 [==============================] - 24s 109ms/step - loss: 0.0014\n",
            "Epoch 6/100\n",
            "224/224 [==============================] - 24s 109ms/step - loss: 0.0013\n",
            "Epoch 7/100\n",
            "224/224 [==============================] - 25s 109ms/step - loss: 0.0013\n",
            "Epoch 8/100\n",
            "224/224 [==============================] - 24s 109ms/step - loss: 0.0011\n",
            "Epoch 9/100\n",
            "224/224 [==============================] - 25s 110ms/step - loss: 0.0010\n",
            "Epoch 10/100\n",
            "224/224 [==============================] - 25s 111ms/step - loss: 0.0010\n",
            "Epoch 11/100\n",
            "224/224 [==============================] - 25s 111ms/step - loss: 0.0010\n",
            "Epoch 12/100\n",
            "224/224 [==============================] - 25s 111ms/step - loss: 0.0010\n",
            "Epoch 13/100\n",
            "224/224 [==============================] - 25s 110ms/step - loss: 9.2603e-04\n",
            "Epoch 14/100\n",
            "224/224 [==============================] - 25s 111ms/step - loss: 8.8581e-04\n",
            "Epoch 15/100\n",
            "224/224 [==============================] - 25s 110ms/step - loss: 9.6405e-04\n",
            "Epoch 16/100\n",
            "224/224 [==============================] - 25s 111ms/step - loss: 8.1762e-04\n",
            "Epoch 17/100\n",
            "224/224 [==============================] - 25s 110ms/step - loss: 8.0479e-04\n",
            "Epoch 18/100\n",
            "224/224 [==============================] - 24s 109ms/step - loss: 8.0127e-04\n",
            "Epoch 19/100\n",
            "224/224 [==============================] - 25s 110ms/step - loss: 8.0823e-04\n",
            "Epoch 20/100\n",
            "224/224 [==============================] - 25s 109ms/step - loss: 8.0823e-04\n",
            "Epoch 21/100\n",
            "224/224 [==============================] - 25s 110ms/step - loss: 7.9284e-04\n",
            "Epoch 22/100\n",
            "224/224 [==============================] - 25s 112ms/step - loss: 8.0442e-04\n",
            "Epoch 23/100\n",
            "224/224 [==============================] - 25s 111ms/step - loss: 7.7660e-04\n",
            "Epoch 24/100\n",
            "224/224 [==============================] - 25s 110ms/step - loss: 8.2093e-04\n",
            "Epoch 25/100\n",
            "224/224 [==============================] - 25s 111ms/step - loss: 7.4231e-04\n",
            "Epoch 26/100\n",
            "224/224 [==============================] - 25s 111ms/step - loss: 7.0278e-04\n",
            "Epoch 27/100\n",
            "224/224 [==============================] - 25s 112ms/step - loss: 7.7012e-04\n",
            "Epoch 28/100\n",
            "224/224 [==============================] - 25s 113ms/step - loss: 8.1267e-04\n",
            "Epoch 29/100\n",
            "224/224 [==============================] - 25s 112ms/step - loss: 7.2995e-04\n",
            "Epoch 30/100\n",
            "224/224 [==============================] - 25s 111ms/step - loss: 6.9542e-04\n",
            "Epoch 31/100\n",
            "224/224 [==============================] - 25s 111ms/step - loss: 6.9082e-04\n",
            "Epoch 32/100\n",
            "224/224 [==============================] - 25s 111ms/step - loss: 6.6715e-04\n",
            "Epoch 33/100\n",
            "224/224 [==============================] - 25s 113ms/step - loss: 6.6020e-04\n",
            "Epoch 34/100\n",
            "224/224 [==============================] - 25s 110ms/step - loss: 6.5037e-04\n",
            "Epoch 35/100\n",
            "224/224 [==============================] - 26s 114ms/step - loss: 6.7751e-04\n",
            "Epoch 36/100\n",
            "224/224 [==============================] - 25s 112ms/step - loss: 6.5284e-04\n",
            "Epoch 37/100\n",
            "224/224 [==============================] - 26s 116ms/step - loss: 6.8116e-04\n",
            "Epoch 38/100\n",
            "224/224 [==============================] - 26s 114ms/step - loss: 6.7271e-04\n",
            "Epoch 39/100\n",
            "224/224 [==============================] - 25s 114ms/step - loss: 6.3304e-04\n",
            "Epoch 40/100\n",
            "224/224 [==============================] - 25s 113ms/step - loss: 6.5582e-04\n",
            "Epoch 41/100\n",
            "224/224 [==============================] - 25s 113ms/step - loss: 5.8943e-04\n",
            "Epoch 42/100\n",
            "224/224 [==============================] - 25s 113ms/step - loss: 6.3542e-04\n",
            "Epoch 43/100\n",
            "224/224 [==============================] - 25s 113ms/step - loss: 6.2482e-04\n",
            "Epoch 44/100\n",
            "224/224 [==============================] - 25s 113ms/step - loss: 5.9866e-04\n",
            "Epoch 45/100\n",
            "224/224 [==============================] - 25s 113ms/step - loss: 6.0447e-04\n",
            "Epoch 46/100\n",
            "224/224 [==============================] - 25s 112ms/step - loss: 6.1395e-04\n",
            "Epoch 47/100\n",
            "224/224 [==============================] - 26s 115ms/step - loss: 6.3564e-04\n",
            "Epoch 48/100\n",
            "224/224 [==============================] - 26s 116ms/step - loss: 5.5988e-04\n",
            "Epoch 49/100\n",
            "224/224 [==============================] - 26s 116ms/step - loss: 6.4888e-04\n",
            "Epoch 50/100\n",
            "224/224 [==============================] - 26s 117ms/step - loss: 6.3616e-04\n",
            "Epoch 51/100\n",
            "224/224 [==============================] - 26s 114ms/step - loss: 5.8926e-04\n",
            "Epoch 52/100\n",
            "224/224 [==============================] - 25s 112ms/step - loss: 5.6990e-04\n",
            "Epoch 53/100\n",
            "224/224 [==============================] - 25s 111ms/step - loss: 6.0777e-04\n",
            "Epoch 54/100\n",
            "224/224 [==============================] - 25s 109ms/step - loss: 5.7848e-04\n",
            "Epoch 55/100\n",
            "224/224 [==============================] - 25s 111ms/step - loss: 5.9526e-04\n",
            "Epoch 56/100\n",
            "224/224 [==============================] - 25s 111ms/step - loss: 6.1839e-04\n",
            "Epoch 57/100\n",
            "224/224 [==============================] - 25s 110ms/step - loss: 5.5663e-04\n",
            "Epoch 58/100\n",
            "224/224 [==============================] - 25s 113ms/step - loss: 5.8109e-04\n",
            "Epoch 59/100\n",
            "224/224 [==============================] - 25s 114ms/step - loss: 5.7702e-04\n",
            "Epoch 60/100\n",
            "224/224 [==============================] - 26s 117ms/step - loss: 5.7459e-04\n",
            "Epoch 61/100\n",
            "224/224 [==============================] - 26s 115ms/step - loss: 5.8723e-04\n",
            "Epoch 62/100\n",
            "224/224 [==============================] - 26s 115ms/step - loss: 5.7346e-04\n",
            "Epoch 63/100\n",
            "224/224 [==============================] - 25s 114ms/step - loss: 5.3563e-04\n",
            "Epoch 64/100\n",
            "224/224 [==============================] - 25s 113ms/step - loss: 6.0000e-04\n",
            "Epoch 65/100\n",
            "224/224 [==============================] - 26s 115ms/step - loss: 5.5823e-04\n",
            "Epoch 66/100\n",
            "224/224 [==============================] - 26s 114ms/step - loss: 5.6010e-04\n",
            "Epoch 67/100\n",
            "224/224 [==============================] - 26s 118ms/step - loss: 5.7027e-04\n",
            "Epoch 68/100\n",
            "224/224 [==============================] - 26s 117ms/step - loss: 5.7517e-04\n",
            "Epoch 69/100\n",
            "224/224 [==============================] - 26s 117ms/step - loss: 5.4818e-04\n",
            "Epoch 70/100\n",
            "224/224 [==============================] - 26s 117ms/step - loss: 5.5426e-04\n",
            "Epoch 71/100\n",
            "224/224 [==============================] - 26s 117ms/step - loss: 5.8299e-04\n",
            "Epoch 72/100\n",
            "224/224 [==============================] - 26s 118ms/step - loss: 5.4476e-04\n",
            "Epoch 73/100\n",
            "224/224 [==============================] - 26s 114ms/step - loss: 5.2231e-04\n",
            "Epoch 74/100\n",
            "224/224 [==============================] - 26s 115ms/step - loss: 5.5642e-04\n",
            "Epoch 75/100\n",
            "224/224 [==============================] - 26s 116ms/step - loss: 5.2336e-04\n",
            "Epoch 76/100\n",
            "224/224 [==============================] - 27s 119ms/step - loss: 5.3885e-04\n",
            "Epoch 77/100\n",
            "224/224 [==============================] - 27s 122ms/step - loss: 5.5615e-04\n",
            "Epoch 78/100\n",
            "224/224 [==============================] - 27s 122ms/step - loss: 5.6996e-04\n",
            "Epoch 79/100\n",
            "224/224 [==============================] - 27s 120ms/step - loss: 5.7095e-04\n",
            "Epoch 80/100\n",
            "224/224 [==============================] - 26s 117ms/step - loss: 5.0510e-04\n",
            "Epoch 81/100\n",
            "224/224 [==============================] - 26s 116ms/step - loss: 5.4811e-04\n",
            "Epoch 82/100\n",
            "224/224 [==============================] - 26s 117ms/step - loss: 5.5249e-04\n",
            "Epoch 83/100\n",
            "224/224 [==============================] - 27s 120ms/step - loss: 5.4686e-04\n",
            "Epoch 84/100\n",
            "224/224 [==============================] - 27s 119ms/step - loss: 5.3187e-04\n",
            "Epoch 85/100\n",
            "224/224 [==============================] - 27s 119ms/step - loss: 5.3310e-04\n",
            "Epoch 86/100\n",
            "224/224 [==============================] - 27s 119ms/step - loss: 5.3773e-04\n",
            "Epoch 87/100\n",
            "224/224 [==============================] - 26s 115ms/step - loss: 5.2433e-04\n",
            "Epoch 88/100\n",
            "224/224 [==============================] - 26s 116ms/step - loss: 5.3433e-04\n",
            "Epoch 89/100\n",
            "224/224 [==============================] - 25s 113ms/step - loss: 5.4078e-04\n",
            "Epoch 90/100\n",
            "224/224 [==============================] - 25s 113ms/step - loss: 5.6007e-04\n",
            "Epoch 91/100\n",
            "224/224 [==============================] - 25s 112ms/step - loss: 5.4321e-04\n",
            "Epoch 92/100\n",
            "224/224 [==============================] - 25s 113ms/step - loss: 5.8768e-04\n",
            "Epoch 93/100\n",
            "224/224 [==============================] - 25s 113ms/step - loss: 5.4180e-04\n",
            "Epoch 94/100\n",
            "224/224 [==============================] - 26s 115ms/step - loss: 5.1962e-04\n",
            "Epoch 95/100\n",
            "224/224 [==============================] - 27s 120ms/step - loss: 5.1803e-04\n",
            "Epoch 96/100\n",
            "224/224 [==============================] - 27s 119ms/step - loss: 5.5521e-04\n",
            "Epoch 97/100\n",
            "224/224 [==============================] - 26s 117ms/step - loss: 5.6688e-04\n",
            "Epoch 98/100\n",
            "224/224 [==============================] - 26s 117ms/step - loss: 5.0567e-04\n",
            "Epoch 99/100\n",
            "224/224 [==============================] - 26s 117ms/step - loss: 5.4414e-04\n",
            "Epoch 100/100\n",
            "224/224 [==============================] - 26s 117ms/step - loss: 5.1937e-04\n"
          ]
        },
        {
          "output_type": "execute_result",
          "data": {
            "text/plain": [
              "<keras.callbacks.History at 0x7fc3fa238d60>"
            ]
          },
          "metadata": {},
          "execution_count": 64
        }
      ]
    },
    {
      "cell_type": "markdown",
      "source": [
        "c. Prediction Function and Result: In this step, we are running the model using the test\n",
        "data we defined in step four. Visualise the predicted versus the actual oil price values\n",
        "for the reported time period"
      ],
      "metadata": {
        "id": "670ezp_5eaEX"
      }
    },
    {
      "cell_type": "code",
      "source": [
        "\n",
        "\n",
        "# Prediction Function and Result: In this step, we are running the model using the test data we defined in step four. Visualise the predicted versus the actual oil price values for the reported time period.\n",
        "\n",
        "# Getting the real stock price of 2017\n",
        "dataset_total = pd.concat((dataset['Price'][:int(dataset.shape[0]*0.8)], dataset['Price'][int(dataset.shape[0]*0.8):]), axis = 0)\n",
        "inputs = dataset_total[len(dataset_total) - len(test_set) - 60:].values\n",
        "inputs = inputs.reshape(-1,1)\n",
        "inputs = sc.transform(inputs)\n",
        "\n",
        "# Creating a data structure with 60 timesteps and 1 output\n",
        "X_test = []\n",
        "for i in range(60, inputs.shape[0]):\n",
        "    X_test.append(inputs[i-60:i, 0])\n",
        "X_test = np.array(X_test)\n",
        "\n",
        "# Reshaping\n",
        "X_test = np.reshape(X_test, (X_test.shape[0], X_test.shape[1], 1))\n",
        "\n",
        "# Getting the predicted stock price of 2017\n",
        "predicted_stock_price = regressor.predict(X_test)\n",
        "predicted_stock_price = sc.inverse_transform(predicted_stock_price)\n",
        "\n"
      ],
      "metadata": {
        "colab": {
          "base_uri": "https://localhost:8080/"
        },
        "id": "8VopNcSAdoLf",
        "outputId": "85146992-632e-4c98-bcb0-6677bb3a3888"
      },
      "execution_count": 65,
      "outputs": [
        {
          "output_type": "stream",
          "name": "stdout",
          "text": [
            "57/57 [==============================] - 5s 31ms/step\n"
          ]
        }
      ]
    },
    {
      "cell_type": "code",
      "source": [
        "\n",
        "# Visualising the results\n",
        "plt.plot(test_set, color = 'red', label = 'Real Brent Oil Price')\n",
        "plt.plot(predicted_stock_price, color = 'blue', label = 'Predicted Brent Oil Price')\n",
        "plt.title('Brent Oil Price Prediction')\n",
        "plt.xlabel('Time')\n",
        "plt.ylabel('Brent Oil Price')\n",
        "plt.legend()\n",
        "plt.show()\n"
      ],
      "metadata": {
        "colab": {
          "base_uri": "https://localhost:8080/",
          "height": 295
        },
        "id": "9M4ZcnbSdvpp",
        "outputId": "8e2522d4-3d1d-47f4-aae0-5b8076b0173d"
      },
      "execution_count": 66,
      "outputs": [
        {
          "output_type": "display_data",
          "data": {
            "text/plain": [
              "<Figure size 432x288 with 1 Axes>"
            ],
            "image/png": "[encoded data removed]"
          },
          "metadata": {
            "needs_background": "light"
          }
        }
      ]
    },
    {
      "cell_type": "code",
      "source": [
        "# print the predicted and actual values\n",
        "print('Predicted Brent Oil Price: ', predicted_stock_price)\n",
        "print('Actual Brent Oil Price: ', test_set)"
      ],
      "metadata": {
        "colab": {
          "base_uri": "https://localhost:8080/"
        },
        "id": "rORqekGHd5UF",
        "outputId": "107d7099-dd30-4b80-b355-f2251bdabb24"
      },
      "execution_count": 67,
      "outputs": [
        {
          "output_type": "stream",
          "name": "stdout",
          "text": [
            "Predicted Brent Oil Price:  [[47.932053]\n",
            " [47.05733 ]\n",
            " [46.250183]\n",
            " ...\n",
            " [92.326546]\n",
            " [92.23547 ]\n",
            " [93.36125 ]]\n",
            "Actual Brent Oil Price:  [[47.51]\n",
            " [46.93]\n",
            " [46.72]\n",
            " ...\n",
            " [94.25]\n",
            " [96.37]\n",
            " [93.59]]\n"
          ]
        }
      ]
    },
    {
      "cell_type": "code",
      "source": [
        "\n",
        "# Mean Squared Error\n",
        "mse = mean_squared_error(test_set, predicted_stock_price)\n",
        "print('Mean Squared Error: ', mse)\n"
      ],
      "metadata": {
        "colab": {
          "base_uri": "https://localhost:8080/"
        },
        "id": "KWRc0P4xd-Rp",
        "outputId": "819bd702-d10b-49c2-df0b-9916e4371baf"
      },
      "execution_count": 68,
      "outputs": [
        {
          "output_type": "stream",
          "name": "stdout",
          "text": [
            "Mean Squared Error:  6.0097600720024005\n"
          ]
        }
      ]
    },
    {
      "cell_type": "code",
      "source": [
        "\n",
        "# Root Mean Squared Error\n",
        "rmse = math.sqrt(mse)\n",
        "print('Root Mean Squared Error: ', rmse)\n"
      ],
      "metadata": {
        "colab": {
          "base_uri": "https://localhost:8080/"
        },
        "id": "KxnEsKpEeC1O",
        "outputId": "b3cd01ac-41bd-43d6-c64b-112296a3f965"
      },
      "execution_count": 69,
      "outputs": [
        {
          "output_type": "stream",
          "name": "stdout",
          "text": [
            "Root Mean Squared Error:  2.4514811996020693\n"
          ]
        }
      ]
    },
    {
      "cell_type": "code",
      "source": [
        "\n",
        "# print accuracy\n",
        "accuracy = 100 - (rmse / test_set.mean()) * 100\n",
        "print('Accuracy: ', accuracy)\n"
      ],
      "metadata": {
        "colab": {
          "base_uri": "https://localhost:8080/"
        },
        "id": "W0pJ-BrAeJYZ",
        "outputId": "b70be86d-4a67-44c3-d2c0-7862d064bbcf"
      },
      "execution_count": 70,
      "outputs": [
        {
          "output_type": "stream",
          "name": "stdout",
          "text": [
            "Accuracy:  96.09743735013829\n"
          ]
        }
      ]
    }
  ]
}